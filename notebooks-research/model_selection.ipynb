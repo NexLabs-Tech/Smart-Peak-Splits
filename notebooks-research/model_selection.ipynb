{
 "cells": [
  {
   "cell_type": "markdown",
   "metadata": {},
   "source": [
    "# Model Selection for Smart Peak Splits\n",
    "\n",
    "This notebook's objective is to select the model that will perform the desired predictions with the highest accuracy, once chosen, the model will be saved for the main pipeline at `orchestrator.py`\n",
    "\n",
    "## Pipeline Overview\n",
    "\n",
    "### Training Phase\n",
    "1. **Data Collection**: GPX files are placed in `data/raw/` folder\n",
    "2. **Feature Extraction**: Run `orchestrator.py` to parse GPX files and extract features (splits with distance, elevation, HR, pace, time)\n",
    "3. **Model Training**: Train models on processed files from `data/processed/`\n",
    "4. **Model Selection**: Evaluate and select the best performing model\n",
    "5. **Save Model**: Save the selected model for inference\n",
    "\n",
    "### Prediction Phase (After Training)\n",
    "1. **Input**: New GPX file from user\n",
    "2. **Parse GPX**: Extract splits data (distance, elevation, HR if available)\n",
    "3. **Model Inference**: Predict for each split:\n",
    "   - Time (seconds)\n",
    "   - Average Pace (min/km)\n",
    "   - Average HR (bpm)\n",
    "4. **Output**: CSV with predicted splits performance\n",
    "\n",
    "## Setup\n",
    "\n",
    "Before proceeding, ensure to run `orchestrator.py` and that GPX files are available in the `data/raw/` folder. You will have processed files in `data/processed/` after running the orchestrator. The processed files are the ones that will be used for training and validating the model.\n",
    "\n",
    "Please check the processed file sample at `data/samples/activity_20738496042_splits_sample.csv`\n",
    "\n",
    "**Note**: There will be a sampling with 5 GPX files, those are supposed to be yours :)"
   ]
  },
  {
   "cell_type": "code",
   "execution_count": 2,
   "metadata": {},
   "outputs": [],
   "source": [
    "import pandas as pd\n",
    "import matplotlib.pyplot as plt\n",
    "import numpy as np\n",
    "import os\n",
    "import glob\n",
    "\n",
    "from tensorflow.keras.models import Sequential\n",
    "from tensorflow.keras.layers import LSTM, Dense, Dropout, BatchNormalization\n",
    "from tensorflow.keras.callbacks import EarlyStopping, ModelCheckpoint\n",
    "from sklearn.preprocessing import StandardScaler\n",
    "import pickle"
   ]
  },
  {
   "cell_type": "markdown",
   "metadata": {},
   "source": [
    "## 1. Cargar y Preparar Datos"
   ]
  },
  {
   "cell_type": "code",
   "execution_count": 3,
   "metadata": {},
   "outputs": [
    {
     "name": "stdout",
     "output_type": "stream",
     "text": [
      "Archivos encontrados: 21\n",
      "\n",
      "Inspeccionando: activity_17859577652_splits.csv\n",
      "\n",
      "Columnas: ['Lap', 'Time', 'Distance', 'Avg Pace', 'Avg HR', 'Total Ascent', 'Total Descent']\n",
      "\n",
      "Primeras filas:\n",
      "   Lap      Time Distance Avg Pace  Avg HR Total Ascent Total Descent\n",
      "0    1  00:21:29    1000m    21:28     105         191m            0m\n",
      "1    2  00:28:32    1001m    28:29     118         240m           13m\n",
      "2    3  00:27:11    1000m    27:10     108         213m           17m\n",
      "3    4  00:23:09    1000m    23:08     113         230m           20m\n",
      "4    5  00:26:21    1000m    26:20     114         211m           30m\n"
     ]
    }
   ],
   "source": [
    "csv_folder = '../data/processed'\n",
    "\n",
    "csv_files = glob.glob(os.path.join(csv_folder, '*.csv'))\n",
    "print(f\"Archivos encontrados: {len(csv_files)}\\n\")\n",
    "\n",
    "if csv_files:\n",
    "    first_file = csv_files[0]\n",
    "    print(f\"Inspeccionando: {os.path.basename(first_file)}\")\n",
    "    df_sample = pd.read_csv(first_file)\n",
    "    print(f\"\\nColumnas: {df_sample.columns.tolist()}\")\n",
    "    print(f\"\\nPrimeras filas:\")\n",
    "    print(df_sample.head())"
   ]
  },
  {
   "cell_type": "code",
   "execution_count": 4,
   "metadata": {},
   "outputs": [
    {
     "name": "stdout",
     "output_type": "stream",
     "text": [
      "Cargando: activity_17859577652_splits.csv\n",
      "Cargando: activity_18170941049_splits.csv\n",
      "Cargando: activity_18225716672_splits.csv\n",
      "Cargando: activity_18551246758_splits.csv\n",
      "Cargando: activity_18552267083_splits.csv\n",
      "Cargando: activity_18683086473_splits.csv\n",
      "Cargando: activity_18857599586_splits.csv\n",
      "Cargando: activity_19095548271_splits.csv\n",
      "Cargando: activity_19166015827_splits.csv\n",
      "Cargando: activity_19302866302_splits.csv\n",
      "Cargando: activity_19372812796_splits.csv\n",
      "Cargando: activity_19515852689_splits.csv\n",
      "Cargando: activity_20013791377_splits.csv\n",
      "Cargando: activity_20090461114_splits.csv\n",
      "Cargando: activity_20314363393_splits.csv\n",
      "Cargando: activity_20387932202_splits.csv\n",
      "Cargando: activity_20395619433_splits.csv\n",
      "Cargando: activity_20600745436_splits.csv\n",
      "Cargando: activity_20669495648_splits.csv\n",
      "Cargando: activity_20738496042_splits.csv\n",
      "Cargando: activity_20807142558_splits.csv\n",
      "\n",
      "Total splits cargados: 514\n",
      "Columnas: ['split_km', 'distance', 'pace', 'avg_hr', 'elevation_gain', 'elevation_loss', 'cumulative_elevation_gain', 'gradient']\n",
      "Archivos procesados: 21\n",
      "\n",
      "Primeras filas:\n"
     ]
    },
    {
     "data": {
      "text/html": [
       "<div>\n",
       "<style scoped>\n",
       "    .dataframe tbody tr th:only-of-type {\n",
       "        vertical-align: middle;\n",
       "    }\n",
       "\n",
       "    .dataframe tbody tr th {\n",
       "        vertical-align: top;\n",
       "    }\n",
       "\n",
       "    .dataframe thead th {\n",
       "        text-align: right;\n",
       "    }\n",
       "</style>\n",
       "<table border=\"1\" class=\"dataframe\">\n",
       "  <thead>\n",
       "    <tr style=\"text-align: right;\">\n",
       "      <th></th>\n",
       "      <th>split_km</th>\n",
       "      <th>distance</th>\n",
       "      <th>pace</th>\n",
       "      <th>avg_hr</th>\n",
       "      <th>elevation_gain</th>\n",
       "      <th>elevation_loss</th>\n",
       "      <th>cumulative_elevation_gain</th>\n",
       "      <th>gradient</th>\n",
       "    </tr>\n",
       "  </thead>\n",
       "  <tbody>\n",
       "    <tr>\n",
       "      <th>0</th>\n",
       "      <td>1</td>\n",
       "      <td>1.000</td>\n",
       "      <td>21.466667</td>\n",
       "      <td>105</td>\n",
       "      <td>191.0</td>\n",
       "      <td>0.0</td>\n",
       "      <td>191.0</td>\n",
       "      <td>19.100000</td>\n",
       "    </tr>\n",
       "    <tr>\n",
       "      <th>1</th>\n",
       "      <td>2</td>\n",
       "      <td>1.001</td>\n",
       "      <td>28.483333</td>\n",
       "      <td>118</td>\n",
       "      <td>240.0</td>\n",
       "      <td>13.0</td>\n",
       "      <td>431.0</td>\n",
       "      <td>22.677323</td>\n",
       "    </tr>\n",
       "    <tr>\n",
       "      <th>2</th>\n",
       "      <td>3</td>\n",
       "      <td>1.000</td>\n",
       "      <td>27.166667</td>\n",
       "      <td>108</td>\n",
       "      <td>213.0</td>\n",
       "      <td>17.0</td>\n",
       "      <td>644.0</td>\n",
       "      <td>19.600000</td>\n",
       "    </tr>\n",
       "    <tr>\n",
       "      <th>3</th>\n",
       "      <td>4</td>\n",
       "      <td>1.000</td>\n",
       "      <td>23.133333</td>\n",
       "      <td>113</td>\n",
       "      <td>230.0</td>\n",
       "      <td>20.0</td>\n",
       "      <td>874.0</td>\n",
       "      <td>21.000000</td>\n",
       "    </tr>\n",
       "    <tr>\n",
       "      <th>4</th>\n",
       "      <td>5</td>\n",
       "      <td>1.000</td>\n",
       "      <td>26.333333</td>\n",
       "      <td>114</td>\n",
       "      <td>211.0</td>\n",
       "      <td>30.0</td>\n",
       "      <td>1085.0</td>\n",
       "      <td>18.100000</td>\n",
       "    </tr>\n",
       "  </tbody>\n",
       "</table>\n",
       "</div>"
      ],
      "text/plain": [
       "   split_km  distance       pace  avg_hr  elevation_gain  elevation_loss  \\\n",
       "0         1     1.000  21.466667     105           191.0             0.0   \n",
       "1         2     1.001  28.483333     118           240.0            13.0   \n",
       "2         3     1.000  27.166667     108           213.0            17.0   \n",
       "3         4     1.000  23.133333     113           230.0            20.0   \n",
       "4         5     1.000  26.333333     114           211.0            30.0   \n",
       "\n",
       "   cumulative_elevation_gain   gradient  \n",
       "0                      191.0  19.100000  \n",
       "1                      431.0  22.677323  \n",
       "2                      644.0  19.600000  \n",
       "3                      874.0  21.000000  \n",
       "4                     1085.0  18.100000  "
      ]
     },
     "execution_count": 4,
     "metadata": {},
     "output_type": "execute_result"
    }
   ],
   "source": [
    "csv_folder = '../data/processed'\n",
    "\n",
    "all_data = []\n",
    "\n",
    "for csv_file in glob.glob(os.path.join(csv_folder, '*.csv')):\n",
    "    print(f\"Cargando: {os.path.basename(csv_file)}\")\n",
    "    df = pd.read_csv(csv_file)\n",
    "    \n",
    "    df_mapped = pd.DataFrame()\n",
    "    df_mapped['split_km'] = df['Lap']\n",
    "    \n",
    "    df_mapped['distance'] = df['Distance'].str.replace('m', '').astype(float) / 1000\n",
    "    \n",
    "    def parse_pace(pace_str):\n",
    "        if pd.isna(pace_str):\n",
    "            return np.nan\n",
    "        parts = pace_str.split(':')\n",
    "        return int(parts[0]) + int(parts[1]) / 60\n",
    "    \n",
    "    df_mapped['pace'] = df['Avg Pace'].apply(parse_pace)\n",
    "    \n",
    "    df_mapped['avg_hr'] = df['Avg HR']\n",
    "    \n",
    "    df_mapped['elevation_gain'] = df['Total Ascent'].str.replace('m', '').astype(float)\n",
    "    df_mapped['elevation_loss'] = df['Total Descent'].str.replace('m', '').astype(float)\n",
    "    \n",
    "    df_mapped['cumulative_elevation_gain'] = df_mapped['elevation_gain'].cumsum()\n",
    "    df_mapped['gradient'] = ((df_mapped['elevation_gain'] - df_mapped['elevation_loss']) / \n",
    "                              (df_mapped['distance'] * 1000 + 1e-6)) * 100\n",
    "    \n",
    "    all_data.append(df_mapped)\n",
    "\n",
    "combined_df = pd.concat(all_data, ignore_index=True)\n",
    "\n",
    "print(f\"\\nTotal splits cargados: {len(combined_df)}\")\n",
    "print(f\"Columnas: {combined_df.columns.tolist()}\")\n",
    "print(f\"Archivos procesados: {len(all_data)}\")\n",
    "print(f\"\\nPrimeras filas:\")\n",
    "combined_df.head()"
   ]
  },
  {
   "cell_type": "markdown",
   "metadata": {},
   "source": [
    "## 2. Feature Engineering y Creación de Secuencias"
   ]
  },
  {
   "cell_type": "code",
   "execution_count": 5,
   "metadata": {},
   "outputs": [
    {
     "name": "stdout",
     "output_type": "stream",
     "text": [
      "Shape de X: (514, 5)\n",
      "Shape de y: (514, 2)\n"
     ]
    }
   ],
   "source": [
    "sequence_length = 5\n",
    "\n",
    "feature_columns = ['elevation_gain', 'elevation_loss', 'distance', 'cumulative_elevation_gain', 'gradient']\n",
    "target_columns = ['pace', 'avg_hr']\n",
    "\n",
    "X = combined_df[feature_columns].values\n",
    "y = combined_df[target_columns].values\n",
    "\n",
    "scaler_X = StandardScaler()\n",
    "scaler_y = StandardScaler()\n",
    "\n",
    "X_scaled = scaler_X.fit_transform(X)\n",
    "y_scaled = scaler_y.fit_transform(y)\n",
    "\n",
    "print(f\"Shape de X: {X_scaled.shape}\")\n",
    "print(f\"Shape de y: {y_scaled.shape}\")"
   ]
  },
  {
   "cell_type": "code",
   "execution_count": 6,
   "metadata": {},
   "outputs": [
    {
     "name": "stdout",
     "output_type": "stream",
     "text": [
      "Shape de X_seq: (509, 5, 5)\n",
      "Shape de y_seq: (509, 2)\n"
     ]
    }
   ],
   "source": [
    "def create_sequences(X, y, sequence_length):\n",
    "    X_seq, y_seq = [], []\n",
    "    for i in range(len(X) - sequence_length):\n",
    "        X_seq.append(X[i:i + sequence_length])\n",
    "        y_seq.append(y[i + sequence_length])\n",
    "    return np.array(X_seq), np.array(y_seq)\n",
    "\n",
    "X_seq, y_seq = create_sequences(X_scaled, y_scaled, sequence_length)\n",
    "\n",
    "print(f\"Shape de X_seq: {X_seq.shape}\")\n",
    "print(f\"Shape de y_seq: {y_seq.shape}\")"
   ]
  },
  {
   "cell_type": "markdown",
   "metadata": {},
   "source": [
    "## 3. División Train/Validation"
   ]
  },
  {
   "cell_type": "code",
   "execution_count": 7,
   "metadata": {},
   "outputs": [
    {
     "name": "stdout",
     "output_type": "stream",
     "text": [
      "Train samples: 407\n",
      "Validation samples: 102\n"
     ]
    }
   ],
   "source": [
    "split_idx = int(len(X_seq) * 0.8)\n",
    "\n",
    "X_train = X_seq[:split_idx]\n",
    "y_train = y_seq[:split_idx]\n",
    "X_val = X_seq[split_idx:]\n",
    "y_val = y_seq[split_idx:]\n",
    "\n",
    "print(f\"Train samples: {len(X_train)}\")\n",
    "print(f\"Validation samples: {len(X_val)}\")"
   ]
  },
  {
   "cell_type": "markdown",
   "metadata": {},
   "source": [
    "## 4. Construcción del Modelo LSTM"
   ]
  },
  {
   "cell_type": "code",
   "execution_count": 8,
   "metadata": {},
   "outputs": [
    {
     "name": "stderr",
     "output_type": "stream",
     "text": [
      "c:\\Users\\josue\\AppData\\Local\\Programs\\Python\\Python310\\lib\\site-packages\\keras\\src\\layers\\rnn\\rnn.py:199: UserWarning: Do not pass an `input_shape`/`input_dim` argument to a layer. When using Sequential models, prefer using an `Input(shape)` object as the first layer in the model instead.\n",
      "  super().__init__(**kwargs)\n"
     ]
    },
    {
     "data": {
      "text/html": [
       "<pre style=\"white-space:pre;overflow-x:auto;line-height:normal;font-family:Menlo,'DejaVu Sans Mono',consolas,'Courier New',monospace\"><span style=\"font-weight: bold\">Model: \"sequential\"</span>\n",
       "</pre>\n"
      ],
      "text/plain": [
       "\u001b[1mModel: \"sequential\"\u001b[0m\n"
      ]
     },
     "metadata": {},
     "output_type": "display_data"
    },
    {
     "data": {
      "text/html": [
       "<pre style=\"white-space:pre;overflow-x:auto;line-height:normal;font-family:Menlo,'DejaVu Sans Mono',consolas,'Courier New',monospace\">┏━━━━━━━━━━━━━━━━━━━━━━━━━━━━━━━━━┳━━━━━━━━━━━━━━━━━━━━━━━━┳━━━━━━━━━━━━━━━┓\n",
       "┃<span style=\"font-weight: bold\"> Layer (type)                    </span>┃<span style=\"font-weight: bold\"> Output Shape           </span>┃<span style=\"font-weight: bold\">       Param # </span>┃\n",
       "┡━━━━━━━━━━━━━━━━━━━━━━━━━━━━━━━━━╇━━━━━━━━━━━━━━━━━━━━━━━━╇━━━━━━━━━━━━━━━┩\n",
       "│ lstm (<span style=\"color: #0087ff; text-decoration-color: #0087ff\">LSTM</span>)                     │ (<span style=\"color: #00d7ff; text-decoration-color: #00d7ff\">None</span>, <span style=\"color: #00af00; text-decoration-color: #00af00\">5</span>, <span style=\"color: #00af00; text-decoration-color: #00af00\">64</span>)          │        <span style=\"color: #00af00; text-decoration-color: #00af00\">17,920</span> │\n",
       "├─────────────────────────────────┼────────────────────────┼───────────────┤\n",
       "│ dropout (<span style=\"color: #0087ff; text-decoration-color: #0087ff\">Dropout</span>)               │ (<span style=\"color: #00d7ff; text-decoration-color: #00d7ff\">None</span>, <span style=\"color: #00af00; text-decoration-color: #00af00\">5</span>, <span style=\"color: #00af00; text-decoration-color: #00af00\">64</span>)          │             <span style=\"color: #00af00; text-decoration-color: #00af00\">0</span> │\n",
       "├─────────────────────────────────┼────────────────────────┼───────────────┤\n",
       "│ lstm_1 (<span style=\"color: #0087ff; text-decoration-color: #0087ff\">LSTM</span>)                   │ (<span style=\"color: #00d7ff; text-decoration-color: #00d7ff\">None</span>, <span style=\"color: #00af00; text-decoration-color: #00af00\">32</span>)             │        <span style=\"color: #00af00; text-decoration-color: #00af00\">12,416</span> │\n",
       "├─────────────────────────────────┼────────────────────────┼───────────────┤\n",
       "│ dropout_1 (<span style=\"color: #0087ff; text-decoration-color: #0087ff\">Dropout</span>)             │ (<span style=\"color: #00d7ff; text-decoration-color: #00d7ff\">None</span>, <span style=\"color: #00af00; text-decoration-color: #00af00\">32</span>)             │             <span style=\"color: #00af00; text-decoration-color: #00af00\">0</span> │\n",
       "├─────────────────────────────────┼────────────────────────┼───────────────┤\n",
       "│ dense (<span style=\"color: #0087ff; text-decoration-color: #0087ff\">Dense</span>)                   │ (<span style=\"color: #00d7ff; text-decoration-color: #00d7ff\">None</span>, <span style=\"color: #00af00; text-decoration-color: #00af00\">32</span>)             │         <span style=\"color: #00af00; text-decoration-color: #00af00\">1,056</span> │\n",
       "├─────────────────────────────────┼────────────────────────┼───────────────┤\n",
       "│ batch_normalization             │ (<span style=\"color: #00d7ff; text-decoration-color: #00d7ff\">None</span>, <span style=\"color: #00af00; text-decoration-color: #00af00\">32</span>)             │           <span style=\"color: #00af00; text-decoration-color: #00af00\">128</span> │\n",
       "│ (<span style=\"color: #0087ff; text-decoration-color: #0087ff\">BatchNormalization</span>)            │                        │               │\n",
       "├─────────────────────────────────┼────────────────────────┼───────────────┤\n",
       "│ dropout_2 (<span style=\"color: #0087ff; text-decoration-color: #0087ff\">Dropout</span>)             │ (<span style=\"color: #00d7ff; text-decoration-color: #00d7ff\">None</span>, <span style=\"color: #00af00; text-decoration-color: #00af00\">32</span>)             │             <span style=\"color: #00af00; text-decoration-color: #00af00\">0</span> │\n",
       "├─────────────────────────────────┼────────────────────────┼───────────────┤\n",
       "│ dense_1 (<span style=\"color: #0087ff; text-decoration-color: #0087ff\">Dense</span>)                 │ (<span style=\"color: #00d7ff; text-decoration-color: #00d7ff\">None</span>, <span style=\"color: #00af00; text-decoration-color: #00af00\">2</span>)              │            <span style=\"color: #00af00; text-decoration-color: #00af00\">66</span> │\n",
       "└─────────────────────────────────┴────────────────────────┴───────────────┘\n",
       "</pre>\n"
      ],
      "text/plain": [
       "┏━━━━━━━━━━━━━━━━━━━━━━━━━━━━━━━━━┳━━━━━━━━━━━━━━━━━━━━━━━━┳━━━━━━━━━━━━━━━┓\n",
       "┃\u001b[1m \u001b[0m\u001b[1mLayer (type)                   \u001b[0m\u001b[1m \u001b[0m┃\u001b[1m \u001b[0m\u001b[1mOutput Shape          \u001b[0m\u001b[1m \u001b[0m┃\u001b[1m \u001b[0m\u001b[1m      Param #\u001b[0m\u001b[1m \u001b[0m┃\n",
       "┡━━━━━━━━━━━━━━━━━━━━━━━━━━━━━━━━━╇━━━━━━━━━━━━━━━━━━━━━━━━╇━━━━━━━━━━━━━━━┩\n",
       "│ lstm (\u001b[38;5;33mLSTM\u001b[0m)                     │ (\u001b[38;5;45mNone\u001b[0m, \u001b[38;5;34m5\u001b[0m, \u001b[38;5;34m64\u001b[0m)          │        \u001b[38;5;34m17,920\u001b[0m │\n",
       "├─────────────────────────────────┼────────────────────────┼───────────────┤\n",
       "│ dropout (\u001b[38;5;33mDropout\u001b[0m)               │ (\u001b[38;5;45mNone\u001b[0m, \u001b[38;5;34m5\u001b[0m, \u001b[38;5;34m64\u001b[0m)          │             \u001b[38;5;34m0\u001b[0m │\n",
       "├─────────────────────────────────┼────────────────────────┼───────────────┤\n",
       "│ lstm_1 (\u001b[38;5;33mLSTM\u001b[0m)                   │ (\u001b[38;5;45mNone\u001b[0m, \u001b[38;5;34m32\u001b[0m)             │        \u001b[38;5;34m12,416\u001b[0m │\n",
       "├─────────────────────────────────┼────────────────────────┼───────────────┤\n",
       "│ dropout_1 (\u001b[38;5;33mDropout\u001b[0m)             │ (\u001b[38;5;45mNone\u001b[0m, \u001b[38;5;34m32\u001b[0m)             │             \u001b[38;5;34m0\u001b[0m │\n",
       "├─────────────────────────────────┼────────────────────────┼───────────────┤\n",
       "│ dense (\u001b[38;5;33mDense\u001b[0m)                   │ (\u001b[38;5;45mNone\u001b[0m, \u001b[38;5;34m32\u001b[0m)             │         \u001b[38;5;34m1,056\u001b[0m │\n",
       "├─────────────────────────────────┼────────────────────────┼───────────────┤\n",
       "│ batch_normalization             │ (\u001b[38;5;45mNone\u001b[0m, \u001b[38;5;34m32\u001b[0m)             │           \u001b[38;5;34m128\u001b[0m │\n",
       "│ (\u001b[38;5;33mBatchNormalization\u001b[0m)            │                        │               │\n",
       "├─────────────────────────────────┼────────────────────────┼───────────────┤\n",
       "│ dropout_2 (\u001b[38;5;33mDropout\u001b[0m)             │ (\u001b[38;5;45mNone\u001b[0m, \u001b[38;5;34m32\u001b[0m)             │             \u001b[38;5;34m0\u001b[0m │\n",
       "├─────────────────────────────────┼────────────────────────┼───────────────┤\n",
       "│ dense_1 (\u001b[38;5;33mDense\u001b[0m)                 │ (\u001b[38;5;45mNone\u001b[0m, \u001b[38;5;34m2\u001b[0m)              │            \u001b[38;5;34m66\u001b[0m │\n",
       "└─────────────────────────────────┴────────────────────────┴───────────────┘\n"
      ]
     },
     "metadata": {},
     "output_type": "display_data"
    },
    {
     "data": {
      "text/html": [
       "<pre style=\"white-space:pre;overflow-x:auto;line-height:normal;font-family:Menlo,'DejaVu Sans Mono',consolas,'Courier New',monospace\"><span style=\"font-weight: bold\"> Total params: </span><span style=\"color: #00af00; text-decoration-color: #00af00\">31,586</span> (123.38 KB)\n",
       "</pre>\n"
      ],
      "text/plain": [
       "\u001b[1m Total params: \u001b[0m\u001b[38;5;34m31,586\u001b[0m (123.38 KB)\n"
      ]
     },
     "metadata": {},
     "output_type": "display_data"
    },
    {
     "data": {
      "text/html": [
       "<pre style=\"white-space:pre;overflow-x:auto;line-height:normal;font-family:Menlo,'DejaVu Sans Mono',consolas,'Courier New',monospace\"><span style=\"font-weight: bold\"> Trainable params: </span><span style=\"color: #00af00; text-decoration-color: #00af00\">31,522</span> (123.13 KB)\n",
       "</pre>\n"
      ],
      "text/plain": [
       "\u001b[1m Trainable params: \u001b[0m\u001b[38;5;34m31,522\u001b[0m (123.13 KB)\n"
      ]
     },
     "metadata": {},
     "output_type": "display_data"
    },
    {
     "data": {
      "text/html": [
       "<pre style=\"white-space:pre;overflow-x:auto;line-height:normal;font-family:Menlo,'DejaVu Sans Mono',consolas,'Courier New',monospace\"><span style=\"font-weight: bold\"> Non-trainable params: </span><span style=\"color: #00af00; text-decoration-color: #00af00\">64</span> (256.00 B)\n",
       "</pre>\n"
      ],
      "text/plain": [
       "\u001b[1m Non-trainable params: \u001b[0m\u001b[38;5;34m64\u001b[0m (256.00 B)\n"
      ]
     },
     "metadata": {},
     "output_type": "display_data"
    }
   ],
   "source": [
    "model = Sequential()\n",
    "\n",
    "model.add(LSTM(64, activation='tanh', return_sequences=True, input_shape=(sequence_length, len(feature_columns))))\n",
    "model.add(Dropout(0.3))\n",
    "\n",
    "model.add(LSTM(32, activation='tanh', return_sequences=False))\n",
    "model.add(Dropout(0.2))\n",
    "\n",
    "model.add(Dense(32, activation='relu'))\n",
    "model.add(BatchNormalization())\n",
    "model.add(Dropout(0.2))\n",
    "\n",
    "model.add(Dense(2, activation='linear'))\n",
    "\n",
    "model.compile(optimizer='adam', loss='mse', metrics=['mae'])\n",
    "\n",
    "model.summary()"
   ]
  },
  {
   "cell_type": "markdown",
   "metadata": {},
   "source": [
    "## 5. Entrenamiento"
   ]
  },
  {
   "cell_type": "code",
   "execution_count": 9,
   "metadata": {},
   "outputs": [
    {
     "name": "stdout",
     "output_type": "stream",
     "text": [
      "Epoch 1/50\n",
      "\u001b[1m10/13\u001b[0m \u001b[32m━━━━━━━━━━━━━━━\u001b[0m\u001b[37m━━━━━\u001b[0m \u001b[1m0s\u001b[0m 6ms/step - loss: 1.3365 - mae: 0.9119\n",
      "Epoch 1: val_loss improved from None to 0.92597, saving model to models/best_model.keras\n",
      "\u001b[1m13/13\u001b[0m \u001b[32m━━━━━━━━━━━━━━━━━━━━\u001b[0m\u001b[37m\u001b[0m \u001b[1m4s\u001b[0m 61ms/step - loss: 1.2370 - mae: 0.8848 - val_loss: 0.9260 - val_mae: 0.7759\n",
      "Epoch 2/50\n",
      "\u001b[1m11/13\u001b[0m \u001b[32m━━━━━━━━━━━━━━━━\u001b[0m\u001b[37m━━━━\u001b[0m \u001b[1m0s\u001b[0m 5ms/step - loss: 0.9921 - mae: 0.7869 \n",
      "Epoch 2: val_loss did not improve from 0.92597\n",
      "\u001b[1m13/13\u001b[0m \u001b[32m━━━━━━━━━━━━━━━━━━━━\u001b[0m\u001b[37m\u001b[0m \u001b[1m0s\u001b[0m 13ms/step - loss: 1.0256 - mae: 0.8010 - val_loss: 0.9381 - val_mae: 0.7834\n",
      "Epoch 3/50\n",
      "\u001b[1m12/13\u001b[0m \u001b[32m━━━━━━━━━━━━━━━━━━\u001b[0m\u001b[37m━━\u001b[0m \u001b[1m0s\u001b[0m 5ms/step - loss: 0.9634 - mae: 0.7583 \n",
      "Epoch 3: val_loss did not improve from 0.92597\n",
      "\u001b[1m13/13\u001b[0m \u001b[32m━━━━━━━━━━━━━━━━━━━━\u001b[0m\u001b[37m\u001b[0m \u001b[1m0s\u001b[0m 11ms/step - loss: 1.0329 - mae: 0.7858 - val_loss: 0.9486 - val_mae: 0.7883\n",
      "Epoch 4/50\n",
      "\u001b[1m10/13\u001b[0m \u001b[32m━━━━━━━━━━━━━━━\u001b[0m\u001b[37m━━━━━\u001b[0m \u001b[1m0s\u001b[0m 6ms/step - loss: 1.0353 - mae: 0.8040 \n",
      "Epoch 4: val_loss did not improve from 0.92597\n",
      "\u001b[1m13/13\u001b[0m \u001b[32m━━━━━━━━━━━━━━━━━━━━\u001b[0m\u001b[37m\u001b[0m \u001b[1m0s\u001b[0m 12ms/step - loss: 0.9012 - mae: 0.7581 - val_loss: 0.9612 - val_mae: 0.7951\n",
      "Epoch 5/50\n",
      "\u001b[1m10/13\u001b[0m \u001b[32m━━━━━━━━━━━━━━━\u001b[0m\u001b[37m━━━━━\u001b[0m \u001b[1m0s\u001b[0m 6ms/step - loss: 0.9302 - mae: 0.7660 \n",
      "Epoch 5: val_loss did not improve from 0.92597\n",
      "\u001b[1m13/13\u001b[0m \u001b[32m━━━━━━━━━━━━━━━━━━━━\u001b[0m\u001b[37m\u001b[0m \u001b[1m0s\u001b[0m 13ms/step - loss: 0.9380 - mae: 0.7662 - val_loss: 0.9687 - val_mae: 0.7976\n",
      "Epoch 6/50\n",
      "\u001b[1m10/13\u001b[0m \u001b[32m━━━━━━━━━━━━━━━\u001b[0m\u001b[37m━━━━━\u001b[0m \u001b[1m0s\u001b[0m 6ms/step - loss: 0.8311 - mae: 0.7358 \n",
      "Epoch 6: val_loss did not improve from 0.92597\n",
      "\u001b[1m13/13\u001b[0m \u001b[32m━━━━━━━━━━━━━━━━━━━━\u001b[0m\u001b[37m\u001b[0m \u001b[1m0s\u001b[0m 12ms/step - loss: 0.8065 - mae: 0.7116 - val_loss: 0.9685 - val_mae: 0.7969\n",
      "Epoch 7/50\n",
      "\u001b[1m 9/13\u001b[0m \u001b[32m━━━━━━━━━━━━━\u001b[0m\u001b[37m━━━━━━━\u001b[0m \u001b[1m0s\u001b[0m 6ms/step - loss: 0.7716 - mae: 0.6746 \n",
      "Epoch 7: val_loss did not improve from 0.92597\n",
      "\u001b[1m13/13\u001b[0m \u001b[32m━━━━━━━━━━━━━━━━━━━━\u001b[0m\u001b[37m\u001b[0m \u001b[1m0s\u001b[0m 12ms/step - loss: 0.8212 - mae: 0.6970 - val_loss: 0.9645 - val_mae: 0.7950\n",
      "Epoch 8/50\n",
      "\u001b[1m12/13\u001b[0m \u001b[32m━━━━━━━━━━━━━━━━━━\u001b[0m\u001b[37m━━\u001b[0m \u001b[1m0s\u001b[0m 5ms/step - loss: 0.8059 - mae: 0.7035 \n",
      "Epoch 8: val_loss did not improve from 0.92597\n",
      "\u001b[1m13/13\u001b[0m \u001b[32m━━━━━━━━━━━━━━━━━━━━\u001b[0m\u001b[37m\u001b[0m \u001b[1m0s\u001b[0m 12ms/step - loss: 0.7480 - mae: 0.6821 - val_loss: 0.9633 - val_mae: 0.7960\n",
      "Epoch 9/50\n",
      "\u001b[1m11/13\u001b[0m \u001b[32m━━━━━━━━━━━━━━━━\u001b[0m\u001b[37m━━━━\u001b[0m \u001b[1m0s\u001b[0m 5ms/step - loss: 0.8300 - mae: 0.7294 \n",
      "Epoch 9: val_loss did not improve from 0.92597\n",
      "\u001b[1m13/13\u001b[0m \u001b[32m━━━━━━━━━━━━━━━━━━━━\u001b[0m\u001b[37m\u001b[0m \u001b[1m0s\u001b[0m 11ms/step - loss: 0.7983 - mae: 0.7011 - val_loss: 0.9656 - val_mae: 0.7950\n",
      "Epoch 10/50\n",
      "\u001b[1m13/13\u001b[0m \u001b[32m━━━━━━━━━━━━━━━━━━━━\u001b[0m\u001b[37m\u001b[0m \u001b[1m0s\u001b[0m 4ms/step - loss: 0.7967 - mae: 0.7155 \n",
      "Epoch 10: val_loss did not improve from 0.92597\n",
      "\u001b[1m13/13\u001b[0m \u001b[32m━━━━━━━━━━━━━━━━━━━━\u001b[0m\u001b[37m\u001b[0m \u001b[1m0s\u001b[0m 12ms/step - loss: 0.8151 - mae: 0.7066 - val_loss: 0.9819 - val_mae: 0.8006\n",
      "Epoch 11/50\n",
      "\u001b[1m 9/13\u001b[0m \u001b[32m━━━━━━━━━━━━━\u001b[0m\u001b[37m━━━━━━━\u001b[0m \u001b[1m0s\u001b[0m 6ms/step - loss: 0.7951 - mae: 0.7020 \n",
      "Epoch 11: val_loss did not improve from 0.92597\n",
      "\u001b[1m13/13\u001b[0m \u001b[32m━━━━━━━━━━━━━━━━━━━━\u001b[0m\u001b[37m\u001b[0m \u001b[1m0s\u001b[0m 14ms/step - loss: 0.7798 - mae: 0.6919 - val_loss: 0.9663 - val_mae: 0.7961\n",
      "Epoch 12/50\n",
      "\u001b[1m10/13\u001b[0m \u001b[32m━━━━━━━━━━━━━━━\u001b[0m\u001b[37m━━━━━\u001b[0m \u001b[1m0s\u001b[0m 6ms/step - loss: 0.7085 - mae: 0.6645 \n",
      "Epoch 12: val_loss did not improve from 0.92597\n",
      "\u001b[1m13/13\u001b[0m \u001b[32m━━━━━━━━━━━━━━━━━━━━\u001b[0m\u001b[37m\u001b[0m \u001b[1m0s\u001b[0m 12ms/step - loss: 0.7944 - mae: 0.7014 - val_loss: 0.9561 - val_mae: 0.7913\n",
      "Epoch 13/50\n",
      "\u001b[1m12/13\u001b[0m \u001b[32m━━━━━━━━━━━━━━━━━━\u001b[0m\u001b[37m━━\u001b[0m \u001b[1m0s\u001b[0m 5ms/step - loss: 0.7024 - mae: 0.6483 \n",
      "Epoch 13: val_loss did not improve from 0.92597\n",
      "\u001b[1m13/13\u001b[0m \u001b[32m━━━━━━━━━━━━━━━━━━━━\u001b[0m\u001b[37m\u001b[0m \u001b[1m0s\u001b[0m 11ms/step - loss: 0.7434 - mae: 0.6735 - val_loss: 0.9541 - val_mae: 0.7922\n",
      "Epoch 14/50\n",
      "\u001b[1m13/13\u001b[0m \u001b[32m━━━━━━━━━━━━━━━━━━━━\u001b[0m\u001b[37m\u001b[0m \u001b[1m0s\u001b[0m 5ms/step - loss: 0.7999 - mae: 0.6970 \n",
      "Epoch 14: val_loss did not improve from 0.92597\n",
      "\u001b[1m13/13\u001b[0m \u001b[32m━━━━━━━━━━━━━━━━━━━━\u001b[0m\u001b[37m\u001b[0m \u001b[1m0s\u001b[0m 10ms/step - loss: 0.7608 - mae: 0.6734 - val_loss: 0.9644 - val_mae: 0.7982\n",
      "Epoch 15/50\n",
      "\u001b[1m13/13\u001b[0m \u001b[32m━━━━━━━━━━━━━━━━━━━━\u001b[0m\u001b[37m\u001b[0m \u001b[1m0s\u001b[0m 4ms/step - loss: 0.7510 - mae: 0.6913 \n",
      "Epoch 15: val_loss did not improve from 0.92597\n",
      "\u001b[1m13/13\u001b[0m \u001b[32m━━━━━━━━━━━━━━━━━━━━\u001b[0m\u001b[37m\u001b[0m \u001b[1m0s\u001b[0m 11ms/step - loss: 0.7418 - mae: 0.6793 - val_loss: 0.9522 - val_mae: 0.7929\n",
      "Epoch 16/50\n",
      "\u001b[1m10/13\u001b[0m \u001b[32m━━━━━━━━━━━━━━━\u001b[0m\u001b[37m━━━━━\u001b[0m \u001b[1m0s\u001b[0m 6ms/step - loss: 0.6460 - mae: 0.6213 \n",
      "Epoch 16: val_loss did not improve from 0.92597\n",
      "\u001b[1m13/13\u001b[0m \u001b[32m━━━━━━━━━━━━━━━━━━━━\u001b[0m\u001b[37m\u001b[0m \u001b[1m0s\u001b[0m 12ms/step - loss: 0.7056 - mae: 0.6584 - val_loss: 0.9411 - val_mae: 0.7876\n",
      "Epoch 16: early stopping\n",
      "Restoring model weights from the end of the best epoch: 1.\n"
     ]
    }
   ],
   "source": [
    "os.makedirs('models', exist_ok=True)\n",
    "\n",
    "early_stop = EarlyStopping(monitor='val_loss', patience=15, restore_best_weights=True, verbose=1)\n",
    "checkpoint = ModelCheckpoint('models/best_model.keras', monitor='val_loss', save_best_only=True, verbose=1)\n",
    "\n",
    "history = model.fit(\n",
    "    X_train, y_train,\n",
    "    validation_data=(X_val, y_val),\n",
    "    epochs=50,\n",
    "    batch_size=32,\n",
    "    callbacks=[early_stop, checkpoint],\n",
    "    verbose=1\n",
    ")"
   ]
  },
  {
   "cell_type": "markdown",
   "metadata": {},
   "source": [
    "## 6. Visualización del Entrenamiento"
   ]
  },
  {
   "cell_type": "code",
   "execution_count": 10,
   "metadata": {},
   "outputs": [
    {
     "data": {
      "image/png": "[encoded data removed]",
      "text/plain": [
       "<Figure size 1500x500 with 2 Axes>"
      ]
     },
     "metadata": {},
     "output_type": "display_data"
    }
   ],
   "source": [
    "plt.figure(figsize=(15, 5))\n",
    "\n",
    "plt.subplot(1, 2, 1)\n",
    "plt.plot(history.history['loss'], label='Training Loss')\n",
    "plt.plot(history.history['val_loss'], label='Validation Loss')\n",
    "plt.title('Model Loss')\n",
    "plt.xlabel('Epoch')\n",
    "plt.ylabel('Loss')\n",
    "plt.legend()\n",
    "plt.grid(True)\n",
    "\n",
    "plt.subplot(1, 2, 2)\n",
    "plt.plot(history.history['mae'], label='Training MAE')\n",
    "plt.plot(history.history['val_mae'], label='Validation MAE')\n",
    "plt.title('Model MAE')\n",
    "plt.xlabel('Epoch')\n",
    "plt.ylabel('MAE')\n",
    "plt.legend()\n",
    "plt.grid(True)\n",
    "\n",
    "plt.tight_layout()\n",
    "plt.savefig('models/training_history.png')\n",
    "plt.show()"
   ]
  },
  {
   "cell_type": "markdown",
   "metadata": {},
   "source": [
    "## 7. Evaluación"
   ]
  },
  {
   "cell_type": "code",
   "execution_count": 11,
   "metadata": {},
   "outputs": [
    {
     "name": "stdout",
     "output_type": "stream",
     "text": [
      "\u001b[1m4/4\u001b[0m \u001b[32m━━━━━━━━━━━━━━━━━━━━\u001b[0m\u001b[37m\u001b[0m \u001b[1m0s\u001b[0m 7ms/step - loss: 0.9260 - mae: 0.7759 \n",
      "\n",
      "Validation Loss: 0.9260\n",
      "Validation MAE: 0.7759\n"
     ]
    }
   ],
   "source": [
    "results = model.evaluate(X_val, y_val, verbose=1)\n",
    "\n",
    "print(f\"\\nValidation Loss: {results[0]:.4f}\")\n",
    "print(f\"Validation MAE: {results[1]:.4f}\")"
   ]
  },
  {
   "cell_type": "code",
   "execution_count": 12,
   "metadata": {},
   "outputs": [
    {
     "name": "stdout",
     "output_type": "stream",
     "text": [
      "\u001b[1m1/1\u001b[0m \u001b[32m━━━━━━━━━━━━━━━━━━━━\u001b[0m\u001b[37m\u001b[0m \u001b[1m0s\u001b[0m 253ms/step\n",
      "\n",
      "Primeras 10 predicciones vs reales:\n"
     ]
    },
    {
     "data": {
      "text/html": [
       "<div>\n",
       "<style scoped>\n",
       "    .dataframe tbody tr th:only-of-type {\n",
       "        vertical-align: middle;\n",
       "    }\n",
       "\n",
       "    .dataframe tbody tr th {\n",
       "        vertical-align: top;\n",
       "    }\n",
       "\n",
       "    .dataframe thead th {\n",
       "        text-align: right;\n",
       "    }\n",
       "</style>\n",
       "<table border=\"1\" class=\"dataframe\">\n",
       "  <thead>\n",
       "    <tr style=\"text-align: right;\">\n",
       "      <th></th>\n",
       "      <th>Real Pace</th>\n",
       "      <th>Pred Pace</th>\n",
       "      <th>Real HR</th>\n",
       "      <th>Pred HR</th>\n",
       "    </tr>\n",
       "  </thead>\n",
       "  <tbody>\n",
       "    <tr>\n",
       "      <th>0</th>\n",
       "      <td>51.983333</td>\n",
       "      <td>16.505400</td>\n",
       "      <td>104.0</td>\n",
       "      <td>127.918396</td>\n",
       "    </tr>\n",
       "    <tr>\n",
       "      <th>1</th>\n",
       "      <td>48.233333</td>\n",
       "      <td>16.407362</td>\n",
       "      <td>104.0</td>\n",
       "      <td>128.075470</td>\n",
       "    </tr>\n",
       "    <tr>\n",
       "      <th>2</th>\n",
       "      <td>47.733333</td>\n",
       "      <td>16.276794</td>\n",
       "      <td>94.0</td>\n",
       "      <td>128.264709</td>\n",
       "    </tr>\n",
       "    <tr>\n",
       "      <th>3</th>\n",
       "      <td>29.850000</td>\n",
       "      <td>16.055124</td>\n",
       "      <td>89.0</td>\n",
       "      <td>128.344711</td>\n",
       "    </tr>\n",
       "    <tr>\n",
       "      <th>4</th>\n",
       "      <td>23.250000</td>\n",
       "      <td>15.933465</td>\n",
       "      <td>95.0</td>\n",
       "      <td>128.260635</td>\n",
       "    </tr>\n",
       "    <tr>\n",
       "      <th>5</th>\n",
       "      <td>18.550000</td>\n",
       "      <td>15.909927</td>\n",
       "      <td>96.0</td>\n",
       "      <td>128.358566</td>\n",
       "    </tr>\n",
       "    <tr>\n",
       "      <th>6</th>\n",
       "      <td>15.016667</td>\n",
       "      <td>15.714458</td>\n",
       "      <td>95.0</td>\n",
       "      <td>128.401505</td>\n",
       "    </tr>\n",
       "    <tr>\n",
       "      <th>7</th>\n",
       "      <td>18.716667</td>\n",
       "      <td>15.520208</td>\n",
       "      <td>88.0</td>\n",
       "      <td>128.377289</td>\n",
       "    </tr>\n",
       "    <tr>\n",
       "      <th>8</th>\n",
       "      <td>17.500000</td>\n",
       "      <td>15.630156</td>\n",
       "      <td>96.0</td>\n",
       "      <td>128.219589</td>\n",
       "    </tr>\n",
       "    <tr>\n",
       "      <th>9</th>\n",
       "      <td>12.883333</td>\n",
       "      <td>15.754026</td>\n",
       "      <td>97.0</td>\n",
       "      <td>128.110062</td>\n",
       "    </tr>\n",
       "  </tbody>\n",
       "</table>\n",
       "</div>"
      ],
      "text/plain": [
       "   Real Pace  Pred Pace  Real HR     Pred HR\n",
       "0  51.983333  16.505400    104.0  127.918396\n",
       "1  48.233333  16.407362    104.0  128.075470\n",
       "2  47.733333  16.276794     94.0  128.264709\n",
       "3  29.850000  16.055124     89.0  128.344711\n",
       "4  23.250000  15.933465     95.0  128.260635\n",
       "5  18.550000  15.909927     96.0  128.358566\n",
       "6  15.016667  15.714458     95.0  128.401505\n",
       "7  18.716667  15.520208     88.0  128.377289\n",
       "8  17.500000  15.630156     96.0  128.219589\n",
       "9  12.883333  15.754026     97.0  128.110062"
      ]
     },
     "execution_count": 12,
     "metadata": {},
     "output_type": "execute_result"
    }
   ],
   "source": [
    "predictions = model.predict(X_val[:10])\n",
    "predictions_original = scaler_y.inverse_transform(predictions)\n",
    "y_val_original = scaler_y.inverse_transform(y_val[:10])\n",
    "\n",
    "comparison_df = pd.DataFrame({\n",
    "    'Real Pace': y_val_original[:, 0],\n",
    "    'Pred Pace': predictions_original[:, 0],\n",
    "    'Real HR': y_val_original[:, 1],\n",
    "    'Pred HR': predictions_original[:, 1]\n",
    "})\n",
    "\n",
    "print(\"\\nPrimeras 10 predicciones vs reales:\")\n",
    "comparison_df"
   ]
  },
  {
   "cell_type": "markdown",
   "metadata": {},
   "source": [
    "## 8. Guardar Modelo y Scalers"
   ]
  },
  {
   "cell_type": "code",
   "execution_count": 13,
   "metadata": {},
   "outputs": [
    {
     "name": "stdout",
     "output_type": "stream",
     "text": [
      "Modelo guardado en: models/smart_peak_model.keras\n",
      "Scalers guardados en: models/scalers.pkl\n"
     ]
    }
   ],
   "source": [
    "model.save('models/smart_peak_model.keras')\n",
    "\n",
    "with open('models/scalers.pkl', 'wb') as f:\n",
    "    pickle.dump({\n",
    "        'scaler_X': scaler_X,\n",
    "        'scaler_y': scaler_y,\n",
    "        'sequence_length': sequence_length,\n",
    "        'feature_columns': feature_columns,\n",
    "        'target_columns': target_columns\n",
    "    }, f)\n",
    "\n",
    "print(\"Modelo guardado en: models/smart_peak_model.keras\")\n",
    "print(\"Scalers guardados en: models/scalers.pkl\")"
   ]
  }
 ],
 "metadata": {
  "kernelspec": {
   "display_name": "Python 3",
   "language": "python",
   "name": "python3"
  },
  "language_info": {
   "codemirror_mode": {
    "name": "ipython",
    "version": 3
   },
   "file_extension": ".py",
   "mimetype": "text/x-python",
   "name": "python",
   "nbconvert_exporter": "python",
   "pygments_lexer": "ipython3",
   "version": "3.10.0"
  }
 },
 "nbformat": 4,
 "nbformat_minor": 4
}
