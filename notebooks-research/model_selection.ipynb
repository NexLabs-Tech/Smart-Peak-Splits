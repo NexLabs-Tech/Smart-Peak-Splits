{
 "cells": [
  {
   "cell_type": "markdown",
   "metadata": {},
   "source": [
    "# Model Selection for Smart Peak Splits\n",
    "\n",
    "This notebook's objective is to select the model that will perform the desired predictions with the highest accuracy, once chosen, the model will be saved for the main pipeline at `orchestrator.py`\n",
    "\n",
    "## Pipeline Overview\n",
    "\n",
    "### Training Phase\n",
    "1. **Data Collection**: GPX files are placed in `data/raw/` folder\n",
    "2. **Feature Extraction**: Run `orchestrator.py` to parse GPX files and extract features (splits with distance, elevation, HR, pace, time)\n",
    "3. **Model Training**: Train models on processed files from `data/processed/`\n",
    "4. **Model Selection**: Evaluate and select the best performing model\n",
    "5. **Save Model**: Save the selected model for inference\n",
    "\n",
    "### Prediction Phase (After Training)\n",
    "1. **Input**: New GPX file from user\n",
    "2. **Parse GPX**: Extract splits data (distance, elevation, HR if available)\n",
    "3. **Model Inference**: Predict for each split:\n",
    "   - Time (seconds)\n",
    "   - Average Pace (min/km)\n",
    "   - Average HR (bpm)\n",
    "4. **Output**: CSV with predicted splits performance\n",
    "\n",
    "## Setup\n",
    "\n",
    "Before proceeding, ensure to run `orchestrator.py` and that GPX files are available in the `data/raw/` folder. You will have processed files in `data/processed/` after running the orchestrator. The processed files are the ones that will be used for training and validating the model.\n",
    "\n",
    "Please check the processed file sample at `data/samples/activity_20738496042_splits_sample.csv`\n",
    "\n",
    "**Note**: There will be a sampling with 5 GPX files, those are supposed to be yours :)"
   ]
  },
  {
   "cell_type": "code",
   "execution_count": 1,
   "metadata": {},
   "outputs": [],
   "source": [
    "import pandas as pd\n",
    "import matplotlib.pyplot as plt\n",
    "import numpy as np\n",
    "import os\n",
    "import glob\n",
    "\n",
    "from tensorflow.keras.models import Sequential\n",
    "from tensorflow.keras.layers import LSTM, Dense, Dropout, BatchNormalization\n",
    "from tensorflow.keras.callbacks import EarlyStopping, ModelCheckpoint\n",
    "from sklearn.preprocessing import StandardScaler\n",
    "import pickle"
   ]
  },
  {
   "cell_type": "markdown",
   "metadata": {},
   "source": [
    "## 1. Cargar y Preparar Datos"
   ]
  },
  {
   "cell_type": "code",
   "execution_count": 10,
   "metadata": {},
   "outputs": [
    {
     "name": "stdout",
     "output_type": "stream",
     "text": [
      "Archivos encontrados: 5\n",
      "\n",
      "Inspeccionando: activity_20387932202_splits.csv\n",
      "\n",
      "Columnas: ['Lap', 'Time', 'Distance', 'Avg Pace', 'Avg HR', 'Total Ascent', 'Total Descent']\n",
      "\n",
      "Primeras filas:\n",
      "   Lap      Time Distance Avg Pace  Avg HR Total Ascent Total Descent\n",
      "0    1  00:14:14    1000m    14:13      86          26m           12m\n",
      "1    2  00:14:07    1001m    14:06      87          20m            2m\n",
      "2    3  00:13:41    1003m    13:38      92          48m            0m\n",
      "3    4  00:15:55    1002m    15:52     113          74m            0m\n",
      "4    5  00:18:06    1002m    18:03     112          85m            0m\n"
     ]
    }
   ],
   "source": [
    "csv_folder = '../data/processed'\n",
    "\n",
    "csv_files = glob.glob(os.path.join(csv_folder, '*.csv'))\n",
    "print(f\"Archivos encontrados: {len(csv_files)}\\n\")\n",
    "\n",
    "if csv_files:\n",
    "    first_file = csv_files[0]\n",
    "    print(f\"Inspeccionando: {os.path.basename(first_file)}\")\n",
    "    df_sample = pd.read_csv(first_file)\n",
    "    print(f\"\\nColumnas: {df_sample.columns.tolist()}\")\n",
    "    print(f\"\\nPrimeras filas:\")\n",
    "    print(df_sample.head())"
   ]
  },
  {
   "cell_type": "code",
   "execution_count": 12,
   "metadata": {},
   "outputs": [
    {
     "name": "stdout",
     "output_type": "stream",
     "text": [
      "Cargando: activity_20387932202_splits.csv\n",
      "Cargando: activity_20395619433_splits.csv\n",
      "Cargando: activity_20600745436_splits.csv\n",
      "Cargando: activity_20669495648_splits.csv\n",
      "Cargando: activity_20738496042_splits.csv\n",
      "\n",
      "Total splits cargados: 124\n",
      "Columnas: ['split_km', 'distance', 'pace', 'avg_hr', 'elevation_gain', 'elevation_loss', 'cumulative_elevation_gain', 'gradient']\n",
      "Archivos procesados: 5\n",
      "\n",
      "Primeras filas:\n"
     ]
    },
    {
     "data": {
      "text/html": [
       "<div>\n",
       "<style scoped>\n",
       "    .dataframe tbody tr th:only-of-type {\n",
       "        vertical-align: middle;\n",
       "    }\n",
       "\n",
       "    .dataframe tbody tr th {\n",
       "        vertical-align: top;\n",
       "    }\n",
       "\n",
       "    .dataframe thead th {\n",
       "        text-align: right;\n",
       "    }\n",
       "</style>\n",
       "<table border=\"1\" class=\"dataframe\">\n",
       "  <thead>\n",
       "    <tr style=\"text-align: right;\">\n",
       "      <th></th>\n",
       "      <th>split_km</th>\n",
       "      <th>distance</th>\n",
       "      <th>pace</th>\n",
       "      <th>avg_hr</th>\n",
       "      <th>elevation_gain</th>\n",
       "      <th>elevation_loss</th>\n",
       "      <th>cumulative_elevation_gain</th>\n",
       "      <th>gradient</th>\n",
       "    </tr>\n",
       "  </thead>\n",
       "  <tbody>\n",
       "    <tr>\n",
       "      <th>0</th>\n",
       "      <td>1</td>\n",
       "      <td>1.000</td>\n",
       "      <td>14.216667</td>\n",
       "      <td>86</td>\n",
       "      <td>26.0</td>\n",
       "      <td>12.0</td>\n",
       "      <td>26.0</td>\n",
       "      <td>1.400000</td>\n",
       "    </tr>\n",
       "    <tr>\n",
       "      <th>1</th>\n",
       "      <td>2</td>\n",
       "      <td>1.001</td>\n",
       "      <td>14.100000</td>\n",
       "      <td>87</td>\n",
       "      <td>20.0</td>\n",
       "      <td>2.0</td>\n",
       "      <td>46.0</td>\n",
       "      <td>1.798202</td>\n",
       "    </tr>\n",
       "    <tr>\n",
       "      <th>2</th>\n",
       "      <td>3</td>\n",
       "      <td>1.003</td>\n",
       "      <td>13.633333</td>\n",
       "      <td>92</td>\n",
       "      <td>48.0</td>\n",
       "      <td>0.0</td>\n",
       "      <td>94.0</td>\n",
       "      <td>4.785643</td>\n",
       "    </tr>\n",
       "    <tr>\n",
       "      <th>3</th>\n",
       "      <td>4</td>\n",
       "      <td>1.002</td>\n",
       "      <td>15.866667</td>\n",
       "      <td>113</td>\n",
       "      <td>74.0</td>\n",
       "      <td>0.0</td>\n",
       "      <td>168.0</td>\n",
       "      <td>7.385230</td>\n",
       "    </tr>\n",
       "    <tr>\n",
       "      <th>4</th>\n",
       "      <td>5</td>\n",
       "      <td>1.002</td>\n",
       "      <td>18.050000</td>\n",
       "      <td>112</td>\n",
       "      <td>85.0</td>\n",
       "      <td>0.0</td>\n",
       "      <td>253.0</td>\n",
       "      <td>8.483034</td>\n",
       "    </tr>\n",
       "  </tbody>\n",
       "</table>\n",
       "</div>"
      ],
      "text/plain": [
       "   split_km  distance       pace  avg_hr  elevation_gain  elevation_loss  \\\n",
       "0         1     1.000  14.216667      86            26.0            12.0   \n",
       "1         2     1.001  14.100000      87            20.0             2.0   \n",
       "2         3     1.003  13.633333      92            48.0             0.0   \n",
       "3         4     1.002  15.866667     113            74.0             0.0   \n",
       "4         5     1.002  18.050000     112            85.0             0.0   \n",
       "\n",
       "   cumulative_elevation_gain  gradient  \n",
       "0                       26.0  1.400000  \n",
       "1                       46.0  1.798202  \n",
       "2                       94.0  4.785643  \n",
       "3                      168.0  7.385230  \n",
       "4                      253.0  8.483034  "
      ]
     },
     "execution_count": 12,
     "metadata": {},
     "output_type": "execute_result"
    }
   ],
   "source": [
    "csv_folder = '../data/processed'\n",
    "\n",
    "all_data = []\n",
    "\n",
    "for csv_file in glob.glob(os.path.join(csv_folder, '*.csv')):\n",
    "    print(f\"Cargando: {os.path.basename(csv_file)}\")\n",
    "    df = pd.read_csv(csv_file)\n",
    "    \n",
    "    df_mapped = pd.DataFrame()\n",
    "    df_mapped['split_km'] = df['Lap']\n",
    "    \n",
    "    df_mapped['distance'] = df['Distance'].str.replace('m', '').astype(float) / 1000\n",
    "    \n",
    "    def parse_pace(pace_str):\n",
    "        if pd.isna(pace_str):\n",
    "            return np.nan\n",
    "        parts = pace_str.split(':')\n",
    "        return int(parts[0]) + int(parts[1]) / 60\n",
    "    \n",
    "    df_mapped['pace'] = df['Avg Pace'].apply(parse_pace)\n",
    "    \n",
    "    df_mapped['avg_hr'] = df['Avg HR']\n",
    "    \n",
    "    df_mapped['elevation_gain'] = df['Total Ascent'].str.replace('m', '').astype(float)\n",
    "    df_mapped['elevation_loss'] = df['Total Descent'].str.replace('m', '').astype(float)\n",
    "    \n",
    "    df_mapped['cumulative_elevation_gain'] = df_mapped['elevation_gain'].cumsum()\n",
    "    df_mapped['gradient'] = ((df_mapped['elevation_gain'] - df_mapped['elevation_loss']) / \n",
    "                              (df_mapped['distance'] * 1000 + 1e-6)) * 100\n",
    "    \n",
    "    all_data.append(df_mapped)\n",
    "\n",
    "combined_df = pd.concat(all_data, ignore_index=True)\n",
    "\n",
    "print(f\"\\nTotal splits cargados: {len(combined_df)}\")\n",
    "print(f\"Columnas: {combined_df.columns.tolist()}\")\n",
    "print(f\"Archivos procesados: {len(all_data)}\")\n",
    "print(f\"\\nPrimeras filas:\")\n",
    "combined_df.head()"
   ]
  },
  {
   "cell_type": "markdown",
   "metadata": {},
   "source": [
    "## 2. Feature Engineering y Creación de Secuencias"
   ]
  },
  {
   "cell_type": "code",
   "execution_count": 13,
   "metadata": {},
   "outputs": [
    {
     "name": "stdout",
     "output_type": "stream",
     "text": [
      "Shape de X: (124, 5)\n",
      "Shape de y: (124, 2)\n"
     ]
    }
   ],
   "source": [
    "sequence_length = 5\n",
    "\n",
    "feature_columns = ['elevation_gain', 'elevation_loss', 'distance', 'cumulative_elevation_gain', 'gradient']\n",
    "target_columns = ['pace', 'avg_hr']\n",
    "\n",
    "X = combined_df[feature_columns].values\n",
    "y = combined_df[target_columns].values\n",
    "\n",
    "scaler_X = StandardScaler()\n",
    "scaler_y = StandardScaler()\n",
    "\n",
    "X_scaled = scaler_X.fit_transform(X)\n",
    "y_scaled = scaler_y.fit_transform(y)\n",
    "\n",
    "print(f\"Shape de X: {X_scaled.shape}\")\n",
    "print(f\"Shape de y: {y_scaled.shape}\")"
   ]
  },
  {
   "cell_type": "code",
   "execution_count": 14,
   "metadata": {},
   "outputs": [
    {
     "name": "stdout",
     "output_type": "stream",
     "text": [
      "Shape de X_seq: (119, 5, 5)\n",
      "Shape de y_seq: (119, 2)\n"
     ]
    }
   ],
   "source": [
    "def create_sequences(X, y, sequence_length):\n",
    "    X_seq, y_seq = [], []\n",
    "    for i in range(len(X) - sequence_length):\n",
    "        X_seq.append(X[i:i + sequence_length])\n",
    "        y_seq.append(y[i + sequence_length])\n",
    "    return np.array(X_seq), np.array(y_seq)\n",
    "\n",
    "X_seq, y_seq = create_sequences(X_scaled, y_scaled, sequence_length)\n",
    "\n",
    "print(f\"Shape de X_seq: {X_seq.shape}\")\n",
    "print(f\"Shape de y_seq: {y_seq.shape}\")"
   ]
  },
  {
   "cell_type": "markdown",
   "metadata": {},
   "source": [
    "## 3. División Train/Validation"
   ]
  },
  {
   "cell_type": "code",
   "execution_count": 15,
   "metadata": {},
   "outputs": [
    {
     "name": "stdout",
     "output_type": "stream",
     "text": [
      "Train samples: 95\n",
      "Validation samples: 24\n"
     ]
    }
   ],
   "source": [
    "split_idx = int(len(X_seq) * 0.8)\n",
    "\n",
    "X_train = X_seq[:split_idx]\n",
    "y_train = y_seq[:split_idx]\n",
    "X_val = X_seq[split_idx:]\n",
    "y_val = y_seq[split_idx:]\n",
    "\n",
    "print(f\"Train samples: {len(X_train)}\")\n",
    "print(f\"Validation samples: {len(X_val)}\")"
   ]
  },
  {
   "cell_type": "markdown",
   "metadata": {},
   "source": [
    "## 4. Construcción del Modelo LSTM"
   ]
  },
  {
   "cell_type": "code",
   "execution_count": 33,
   "metadata": {},
   "outputs": [
    {
     "data": {
      "text/html": [
       "<pre style=\"white-space:pre;overflow-x:auto;line-height:normal;font-family:Menlo,'DejaVu Sans Mono',consolas,'Courier New',monospace\"><span style=\"font-weight: bold\">Model: \"sequential_2\"</span>\n",
       "</pre>\n"
      ],
      "text/plain": [
       "\u001b[1mModel: \"sequential_2\"\u001b[0m\n"
      ]
     },
     "metadata": {},
     "output_type": "display_data"
    },
    {
     "data": {
      "text/html": [
       "<pre style=\"white-space:pre;overflow-x:auto;line-height:normal;font-family:Menlo,'DejaVu Sans Mono',consolas,'Courier New',monospace\">┏━━━━━━━━━━━━━━━━━━━━━━━━━━━━━━━━━┳━━━━━━━━━━━━━━━━━━━━━━━━┳━━━━━━━━━━━━━━━┓\n",
       "┃<span style=\"font-weight: bold\"> Layer (type)                    </span>┃<span style=\"font-weight: bold\"> Output Shape           </span>┃<span style=\"font-weight: bold\">       Param # </span>┃\n",
       "┡━━━━━━━━━━━━━━━━━━━━━━━━━━━━━━━━━╇━━━━━━━━━━━━━━━━━━━━━━━━╇━━━━━━━━━━━━━━━┩\n",
       "│ lstm_4 (<span style=\"color: #0087ff; text-decoration-color: #0087ff\">LSTM</span>)                   │ (<span style=\"color: #00d7ff; text-decoration-color: #00d7ff\">None</span>, <span style=\"color: #00af00; text-decoration-color: #00af00\">5</span>, <span style=\"color: #00af00; text-decoration-color: #00af00\">64</span>)          │        <span style=\"color: #00af00; text-decoration-color: #00af00\">17,920</span> │\n",
       "├─────────────────────────────────┼────────────────────────┼───────────────┤\n",
       "│ dropout_6 (<span style=\"color: #0087ff; text-decoration-color: #0087ff\">Dropout</span>)             │ (<span style=\"color: #00d7ff; text-decoration-color: #00d7ff\">None</span>, <span style=\"color: #00af00; text-decoration-color: #00af00\">5</span>, <span style=\"color: #00af00; text-decoration-color: #00af00\">64</span>)          │             <span style=\"color: #00af00; text-decoration-color: #00af00\">0</span> │\n",
       "├─────────────────────────────────┼────────────────────────┼───────────────┤\n",
       "│ lstm_5 (<span style=\"color: #0087ff; text-decoration-color: #0087ff\">LSTM</span>)                   │ (<span style=\"color: #00d7ff; text-decoration-color: #00d7ff\">None</span>, <span style=\"color: #00af00; text-decoration-color: #00af00\">32</span>)             │        <span style=\"color: #00af00; text-decoration-color: #00af00\">12,416</span> │\n",
       "├─────────────────────────────────┼────────────────────────┼───────────────┤\n",
       "│ dropout_7 (<span style=\"color: #0087ff; text-decoration-color: #0087ff\">Dropout</span>)             │ (<span style=\"color: #00d7ff; text-decoration-color: #00d7ff\">None</span>, <span style=\"color: #00af00; text-decoration-color: #00af00\">32</span>)             │             <span style=\"color: #00af00; text-decoration-color: #00af00\">0</span> │\n",
       "├─────────────────────────────────┼────────────────────────┼───────────────┤\n",
       "│ dense_4 (<span style=\"color: #0087ff; text-decoration-color: #0087ff\">Dense</span>)                 │ (<span style=\"color: #00d7ff; text-decoration-color: #00d7ff\">None</span>, <span style=\"color: #00af00; text-decoration-color: #00af00\">32</span>)             │         <span style=\"color: #00af00; text-decoration-color: #00af00\">1,056</span> │\n",
       "├─────────────────────────────────┼────────────────────────┼───────────────┤\n",
       "│ batch_normalization_2           │ (<span style=\"color: #00d7ff; text-decoration-color: #00d7ff\">None</span>, <span style=\"color: #00af00; text-decoration-color: #00af00\">32</span>)             │           <span style=\"color: #00af00; text-decoration-color: #00af00\">128</span> │\n",
       "│ (<span style=\"color: #0087ff; text-decoration-color: #0087ff\">BatchNormalization</span>)            │                        │               │\n",
       "├─────────────────────────────────┼────────────────────────┼───────────────┤\n",
       "│ dropout_8 (<span style=\"color: #0087ff; text-decoration-color: #0087ff\">Dropout</span>)             │ (<span style=\"color: #00d7ff; text-decoration-color: #00d7ff\">None</span>, <span style=\"color: #00af00; text-decoration-color: #00af00\">32</span>)             │             <span style=\"color: #00af00; text-decoration-color: #00af00\">0</span> │\n",
       "├─────────────────────────────────┼────────────────────────┼───────────────┤\n",
       "│ dense_5 (<span style=\"color: #0087ff; text-decoration-color: #0087ff\">Dense</span>)                 │ (<span style=\"color: #00d7ff; text-decoration-color: #00d7ff\">None</span>, <span style=\"color: #00af00; text-decoration-color: #00af00\">2</span>)              │            <span style=\"color: #00af00; text-decoration-color: #00af00\">66</span> │\n",
       "└─────────────────────────────────┴────────────────────────┴───────────────┘\n",
       "</pre>\n"
      ],
      "text/plain": [
       "┏━━━━━━━━━━━━━━━━━━━━━━━━━━━━━━━━━┳━━━━━━━━━━━━━━━━━━━━━━━━┳━━━━━━━━━━━━━━━┓\n",
       "┃\u001b[1m \u001b[0m\u001b[1mLayer (type)                   \u001b[0m\u001b[1m \u001b[0m┃\u001b[1m \u001b[0m\u001b[1mOutput Shape          \u001b[0m\u001b[1m \u001b[0m┃\u001b[1m \u001b[0m\u001b[1m      Param #\u001b[0m\u001b[1m \u001b[0m┃\n",
       "┡━━━━━━━━━━━━━━━━━━━━━━━━━━━━━━━━━╇━━━━━━━━━━━━━━━━━━━━━━━━╇━━━━━━━━━━━━━━━┩\n",
       "│ lstm_4 (\u001b[38;5;33mLSTM\u001b[0m)                   │ (\u001b[38;5;45mNone\u001b[0m, \u001b[38;5;34m5\u001b[0m, \u001b[38;5;34m64\u001b[0m)          │        \u001b[38;5;34m17,920\u001b[0m │\n",
       "├─────────────────────────────────┼────────────────────────┼───────────────┤\n",
       "│ dropout_6 (\u001b[38;5;33mDropout\u001b[0m)             │ (\u001b[38;5;45mNone\u001b[0m, \u001b[38;5;34m5\u001b[0m, \u001b[38;5;34m64\u001b[0m)          │             \u001b[38;5;34m0\u001b[0m │\n",
       "├─────────────────────────────────┼────────────────────────┼───────────────┤\n",
       "│ lstm_5 (\u001b[38;5;33mLSTM\u001b[0m)                   │ (\u001b[38;5;45mNone\u001b[0m, \u001b[38;5;34m32\u001b[0m)             │        \u001b[38;5;34m12,416\u001b[0m │\n",
       "├─────────────────────────────────┼────────────────────────┼───────────────┤\n",
       "│ dropout_7 (\u001b[38;5;33mDropout\u001b[0m)             │ (\u001b[38;5;45mNone\u001b[0m, \u001b[38;5;34m32\u001b[0m)             │             \u001b[38;5;34m0\u001b[0m │\n",
       "├─────────────────────────────────┼────────────────────────┼───────────────┤\n",
       "│ dense_4 (\u001b[38;5;33mDense\u001b[0m)                 │ (\u001b[38;5;45mNone\u001b[0m, \u001b[38;5;34m32\u001b[0m)             │         \u001b[38;5;34m1,056\u001b[0m │\n",
       "├─────────────────────────────────┼────────────────────────┼───────────────┤\n",
       "│ batch_normalization_2           │ (\u001b[38;5;45mNone\u001b[0m, \u001b[38;5;34m32\u001b[0m)             │           \u001b[38;5;34m128\u001b[0m │\n",
       "│ (\u001b[38;5;33mBatchNormalization\u001b[0m)            │                        │               │\n",
       "├─────────────────────────────────┼────────────────────────┼───────────────┤\n",
       "│ dropout_8 (\u001b[38;5;33mDropout\u001b[0m)             │ (\u001b[38;5;45mNone\u001b[0m, \u001b[38;5;34m32\u001b[0m)             │             \u001b[38;5;34m0\u001b[0m │\n",
       "├─────────────────────────────────┼────────────────────────┼───────────────┤\n",
       "│ dense_5 (\u001b[38;5;33mDense\u001b[0m)                 │ (\u001b[38;5;45mNone\u001b[0m, \u001b[38;5;34m2\u001b[0m)              │            \u001b[38;5;34m66\u001b[0m │\n",
       "└─────────────────────────────────┴────────────────────────┴───────────────┘\n"
      ]
     },
     "metadata": {},
     "output_type": "display_data"
    },
    {
     "data": {
      "text/html": [
       "<pre style=\"white-space:pre;overflow-x:auto;line-height:normal;font-family:Menlo,'DejaVu Sans Mono',consolas,'Courier New',monospace\"><span style=\"font-weight: bold\"> Total params: </span><span style=\"color: #00af00; text-decoration-color: #00af00\">31,586</span> (123.38 KB)\n",
       "</pre>\n"
      ],
      "text/plain": [
       "\u001b[1m Total params: \u001b[0m\u001b[38;5;34m31,586\u001b[0m (123.38 KB)\n"
      ]
     },
     "metadata": {},
     "output_type": "display_data"
    },
    {
     "data": {
      "text/html": [
       "<pre style=\"white-space:pre;overflow-x:auto;line-height:normal;font-family:Menlo,'DejaVu Sans Mono',consolas,'Courier New',monospace\"><span style=\"font-weight: bold\"> Trainable params: </span><span style=\"color: #00af00; text-decoration-color: #00af00\">31,522</span> (123.13 KB)\n",
       "</pre>\n"
      ],
      "text/plain": [
       "\u001b[1m Trainable params: \u001b[0m\u001b[38;5;34m31,522\u001b[0m (123.13 KB)\n"
      ]
     },
     "metadata": {},
     "output_type": "display_data"
    },
    {
     "data": {
      "text/html": [
       "<pre style=\"white-space:pre;overflow-x:auto;line-height:normal;font-family:Menlo,'DejaVu Sans Mono',consolas,'Courier New',monospace\"><span style=\"font-weight: bold\"> Non-trainable params: </span><span style=\"color: #00af00; text-decoration-color: #00af00\">64</span> (256.00 B)\n",
       "</pre>\n"
      ],
      "text/plain": [
       "\u001b[1m Non-trainable params: \u001b[0m\u001b[38;5;34m64\u001b[0m (256.00 B)\n"
      ]
     },
     "metadata": {},
     "output_type": "display_data"
    }
   ],
   "source": [
    "model = Sequential()\n",
    "\n",
    "model.add(LSTM(64, activation='tanh', return_sequences=True, input_shape=(sequence_length, len(feature_columns))))\n",
    "model.add(Dropout(0.3))\n",
    "\n",
    "model.add(LSTM(32, activation='tanh', return_sequences=False))\n",
    "model.add(Dropout(0.2))\n",
    "\n",
    "model.add(Dense(32, activation='relu'))\n",
    "model.add(BatchNormalization())\n",
    "model.add(Dropout(0.2))\n",
    "\n",
    "model.add(Dense(2, activation='linear'))\n",
    "\n",
    "model.compile(optimizer='adam', loss='mse', metrics=['mae'])\n",
    "\n",
    "model.summary()"
   ]
  },
  {
   "cell_type": "markdown",
   "metadata": {},
   "source": [
    "## 5. Entrenamiento"
   ]
  },
  {
   "cell_type": "code",
   "execution_count": 34,
   "metadata": {},
   "outputs": [
    {
     "name": "stdout",
     "output_type": "stream",
     "text": [
      "Epoch 1/50\n",
      "\u001b[1m1/3\u001b[0m \u001b[32m━━━━━━\u001b[0m\u001b[37m━━━━━━━━━━━━━━\u001b[0m \u001b[1m5s\u001b[0m 3s/step - loss: 3.0512 - mae: 1.3179\n",
      "Epoch 1: val_loss improved from None to 0.54507, saving model to models/best_model.keras\n",
      "\u001b[1m3/3\u001b[0m \u001b[32m━━━━━━━━━━━━━━━━━━━━\u001b[0m\u001b[37m\u001b[0m \u001b[1m3s\u001b[0m 207ms/step - loss: 2.4401 - mae: 1.2147 - val_loss: 0.5451 - val_mae: 0.6196\n",
      "Epoch 2/50\n",
      "\u001b[1m1/3\u001b[0m \u001b[32m━━━━━━\u001b[0m\u001b[37m━━━━━━━━━━━━━━\u001b[0m \u001b[1m0s\u001b[0m 27ms/step - loss: 1.4279 - mae: 0.9248\n",
      "Epoch 2: val_loss improved from 0.54507 to 0.53960, saving model to models/best_model.keras\n",
      "\u001b[1m3/3\u001b[0m \u001b[32m━━━━━━━━━━━━━━━━━━━━\u001b[0m\u001b[37m\u001b[0m \u001b[1m0s\u001b[0m 53ms/step - loss: 1.4692 - mae: 0.8971 - val_loss: 0.5396 - val_mae: 0.6155\n",
      "Epoch 3/50\n",
      "\u001b[1m1/3\u001b[0m \u001b[32m━━━━━━\u001b[0m\u001b[37m━━━━━━━━━━━━━━\u001b[0m \u001b[1m0s\u001b[0m 28ms/step - loss: 1.5838 - mae: 0.9097\n",
      "Epoch 3: val_loss improved from 0.53960 to 0.53355, saving model to models/best_model.keras\n",
      "\u001b[1m3/3\u001b[0m \u001b[32m━━━━━━━━━━━━━━━━━━━━\u001b[0m\u001b[37m\u001b[0m \u001b[1m0s\u001b[0m 51ms/step - loss: 1.4803 - mae: 0.9320 - val_loss: 0.5335 - val_mae: 0.6128\n",
      "Epoch 4/50\n",
      "\u001b[1m1/3\u001b[0m \u001b[32m━━━━━━\u001b[0m\u001b[37m━━━━━━━━━━━━━━\u001b[0m \u001b[1m0s\u001b[0m 24ms/step - loss: 1.2609 - mae: 0.9005\n",
      "Epoch 4: val_loss improved from 0.53355 to 0.52817, saving model to models/best_model.keras\n",
      "\u001b[1m3/3\u001b[0m \u001b[32m━━━━━━━━━━━━━━━━━━━━\u001b[0m\u001b[37m\u001b[0m \u001b[1m0s\u001b[0m 49ms/step - loss: 1.3249 - mae: 0.8895 - val_loss: 0.5282 - val_mae: 0.6099\n",
      "Epoch 5/50\n",
      "\u001b[1m1/3\u001b[0m \u001b[32m━━━━━━\u001b[0m\u001b[37m━━━━━━━━━━━━━━\u001b[0m \u001b[1m0s\u001b[0m 25ms/step - loss: 0.9784 - mae: 0.7781\n",
      "Epoch 5: val_loss improved from 0.52817 to 0.52413, saving model to models/best_model.keras\n",
      "\u001b[1m3/3\u001b[0m \u001b[32m━━━━━━━━━━━━━━━━━━━━\u001b[0m\u001b[37m\u001b[0m \u001b[1m0s\u001b[0m 50ms/step - loss: 1.0217 - mae: 0.8036 - val_loss: 0.5241 - val_mae: 0.6084\n",
      "Epoch 6/50\n",
      "\u001b[1m1/3\u001b[0m \u001b[32m━━━━━━\u001b[0m\u001b[37m━━━━━━━━━━━━━━\u001b[0m \u001b[1m0s\u001b[0m 24ms/step - loss: 1.0547 - mae: 0.8036\n",
      "Epoch 6: val_loss improved from 0.52413 to 0.52308, saving model to models/best_model.keras\n",
      "\u001b[1m3/3\u001b[0m \u001b[32m━━━━━━━━━━━━━━━━━━━━\u001b[0m\u001b[37m\u001b[0m \u001b[1m0s\u001b[0m 50ms/step - loss: 0.9560 - mae: 0.7486 - val_loss: 0.5231 - val_mae: 0.6083\n",
      "Epoch 7/50\n",
      "\u001b[1m1/3\u001b[0m \u001b[32m━━━━━━\u001b[0m\u001b[37m━━━━━━━━━━━━━━\u001b[0m \u001b[1m0s\u001b[0m 26ms/step - loss: 0.9376 - mae: 0.7492\n",
      "Epoch 7: val_loss did not improve from 0.52308\n",
      "\u001b[1m3/3\u001b[0m \u001b[32m━━━━━━━━━━━━━━━━━━━━\u001b[0m\u001b[37m\u001b[0m \u001b[1m0s\u001b[0m 32ms/step - loss: 0.9225 - mae: 0.7414 - val_loss: 0.5249 - val_mae: 0.6098\n",
      "Epoch 8/50\n",
      "\u001b[1m1/3\u001b[0m \u001b[32m━━━━━━\u001b[0m\u001b[37m━━━━━━━━━━━━━━\u001b[0m \u001b[1m0s\u001b[0m 30ms/step - loss: 0.7620 - mae: 0.6737\n",
      "Epoch 8: val_loss did not improve from 0.52308\n",
      "\u001b[1m3/3\u001b[0m \u001b[32m━━━━━━━━━━━━━━━━━━━━\u001b[0m\u001b[37m\u001b[0m \u001b[1m0s\u001b[0m 46ms/step - loss: 0.9029 - mae: 0.7350 - val_loss: 0.5291 - val_mae: 0.6128\n",
      "Epoch 9/50\n",
      "\u001b[1m1/3\u001b[0m \u001b[32m━━━━━━\u001b[0m\u001b[37m━━━━━━━━━━━━━━\u001b[0m \u001b[1m0s\u001b[0m 29ms/step - loss: 0.6662 - mae: 0.6424\n",
      "Epoch 9: val_loss did not improve from 0.52308\n",
      "\u001b[1m3/3\u001b[0m \u001b[32m━━━━━━━━━━━━━━━━━━━━\u001b[0m\u001b[37m\u001b[0m \u001b[1m0s\u001b[0m 35ms/step - loss: 0.8518 - mae: 0.7079 - val_loss: 0.5336 - val_mae: 0.6159\n",
      "Epoch 10/50\n",
      "\u001b[1m1/3\u001b[0m \u001b[32m━━━━━━\u001b[0m\u001b[37m━━━━━━━━━━━━━━\u001b[0m \u001b[1m0s\u001b[0m 29ms/step - loss: 1.0165 - mae: 0.7716\n",
      "Epoch 10: val_loss did not improve from 0.52308\n",
      "\u001b[1m3/3\u001b[0m \u001b[32m━━━━━━━━━━━━━━━━━━━━\u001b[0m\u001b[37m\u001b[0m \u001b[1m0s\u001b[0m 36ms/step - loss: 0.8738 - mae: 0.7192 - val_loss: 0.5370 - val_mae: 0.6183\n",
      "Epoch 11/50\n",
      "\u001b[1m1/3\u001b[0m \u001b[32m━━━━━━\u001b[0m\u001b[37m━━━━━━━━━━━━━━\u001b[0m \u001b[1m0s\u001b[0m 28ms/step - loss: 0.6780 - mae: 0.6207\n",
      "Epoch 11: val_loss did not improve from 0.52308\n",
      "\u001b[1m3/3\u001b[0m \u001b[32m━━━━━━━━━━━━━━━━━━━━\u001b[0m\u001b[37m\u001b[0m \u001b[1m0s\u001b[0m 36ms/step - loss: 0.8905 - mae: 0.7081 - val_loss: 0.5389 - val_mae: 0.6202\n",
      "Epoch 12/50\n",
      "\u001b[1m1/3\u001b[0m \u001b[32m━━━━━━\u001b[0m\u001b[37m━━━━━━━━━━━━━━\u001b[0m \u001b[1m0s\u001b[0m 39ms/step - loss: 0.7060 - mae: 0.6647\n",
      "Epoch 12: val_loss did not improve from 0.52308\n",
      "\u001b[1m3/3\u001b[0m \u001b[32m━━━━━━━━━━━━━━━━━━━━\u001b[0m\u001b[37m\u001b[0m \u001b[1m0s\u001b[0m 39ms/step - loss: 0.8426 - mae: 0.7011 - val_loss: 0.5402 - val_mae: 0.6219\n",
      "Epoch 13/50\n",
      "\u001b[1m1/3\u001b[0m \u001b[32m━━━━━━\u001b[0m\u001b[37m━━━━━━━━━━━━━━\u001b[0m \u001b[1m0s\u001b[0m 28ms/step - loss: 0.7276 - mae: 0.6647\n",
      "Epoch 13: val_loss did not improve from 0.52308\n",
      "\u001b[1m3/3\u001b[0m \u001b[32m━━━━━━━━━━━━━━━━━━━━\u001b[0m\u001b[37m\u001b[0m \u001b[1m0s\u001b[0m 35ms/step - loss: 0.7736 - mae: 0.6751 - val_loss: 0.5414 - val_mae: 0.6236\n",
      "Epoch 14/50\n",
      "\u001b[1m1/3\u001b[0m \u001b[32m━━━━━━\u001b[0m\u001b[37m━━━━━━━━━━━━━━\u001b[0m \u001b[1m0s\u001b[0m 32ms/step - loss: 1.0281 - mae: 0.7131\n",
      "Epoch 14: val_loss did not improve from 0.52308\n",
      "\u001b[1m3/3\u001b[0m \u001b[32m━━━━━━━━━━━━━━━━━━━━\u001b[0m\u001b[37m\u001b[0m \u001b[1m0s\u001b[0m 37ms/step - loss: 0.8678 - mae: 0.6788 - val_loss: 0.5416 - val_mae: 0.6244\n",
      "Epoch 15/50\n",
      "\u001b[1m1/3\u001b[0m \u001b[32m━━━━━━\u001b[0m\u001b[37m━━━━━━━━━━━━━━\u001b[0m \u001b[1m0s\u001b[0m 40ms/step - loss: 0.7061 - mae: 0.6161\n",
      "Epoch 15: val_loss did not improve from 0.52308\n",
      "\u001b[1m3/3\u001b[0m \u001b[32m━━━━━━━━━━━━━━━━━━━━\u001b[0m\u001b[37m\u001b[0m \u001b[1m0s\u001b[0m 50ms/step - loss: 0.6301 - mae: 0.5754 - val_loss: 0.5417 - val_mae: 0.6252\n",
      "Epoch 16/50\n",
      "\u001b[1m1/3\u001b[0m \u001b[32m━━━━━━\u001b[0m\u001b[37m━━━━━━━━━━━━━━\u001b[0m \u001b[1m0s\u001b[0m 36ms/step - loss: 0.9229 - mae: 0.7336\n",
      "Epoch 16: val_loss did not improve from 0.52308\n",
      "\u001b[1m3/3\u001b[0m \u001b[32m━━━━━━━━━━━━━━━━━━━━\u001b[0m\u001b[37m\u001b[0m \u001b[1m0s\u001b[0m 41ms/step - loss: 0.6855 - mae: 0.6355 - val_loss: 0.5423 - val_mae: 0.6260\n",
      "Epoch 17/50\n",
      "\u001b[1m1/3\u001b[0m \u001b[32m━━━━━━\u001b[0m\u001b[37m━━━━━━━━━━━━━━\u001b[0m \u001b[1m0s\u001b[0m 37ms/step - loss: 0.6123 - mae: 0.6158\n",
      "Epoch 17: val_loss did not improve from 0.52308\n",
      "\u001b[1m3/3\u001b[0m \u001b[32m━━━━━━━━━━━━━━━━━━━━\u001b[0m\u001b[37m\u001b[0m \u001b[1m0s\u001b[0m 46ms/step - loss: 0.6600 - mae: 0.6272 - val_loss: 0.5436 - val_mae: 0.6274\n",
      "Epoch 18/50\n",
      "\u001b[1m1/3\u001b[0m \u001b[32m━━━━━━\u001b[0m\u001b[37m━━━━━━━━━━━━━━\u001b[0m \u001b[1m0s\u001b[0m 38ms/step - loss: 0.7950 - mae: 0.6661\n",
      "Epoch 18: val_loss did not improve from 0.52308\n",
      "\u001b[1m3/3\u001b[0m \u001b[32m━━━━━━━━━━━━━━━━━━━━\u001b[0m\u001b[37m\u001b[0m \u001b[1m0s\u001b[0m 38ms/step - loss: 0.7466 - mae: 0.6556 - val_loss: 0.5442 - val_mae: 0.6284\n",
      "Epoch 19/50\n",
      "\u001b[1m1/3\u001b[0m \u001b[32m━━━━━━\u001b[0m\u001b[37m━━━━━━━━━━━━━━\u001b[0m \u001b[1m0s\u001b[0m 29ms/step - loss: 0.5903 - mae: 0.5920\n",
      "Epoch 19: val_loss did not improve from 0.52308\n",
      "\u001b[1m3/3\u001b[0m \u001b[32m━━━━━━━━━━━━━━━━━━━━\u001b[0m\u001b[37m\u001b[0m \u001b[1m0s\u001b[0m 37ms/step - loss: 0.6658 - mae: 0.6311 - val_loss: 0.5455 - val_mae: 0.6294\n",
      "Epoch 20/50\n",
      "\u001b[1m1/3\u001b[0m \u001b[32m━━━━━━\u001b[0m\u001b[37m━━━━━━━━━━━━━━\u001b[0m \u001b[1m0s\u001b[0m 26ms/step - loss: 0.5888 - mae: 0.5754\n",
      "Epoch 20: val_loss did not improve from 0.52308\n",
      "\u001b[1m3/3\u001b[0m \u001b[32m━━━━━━━━━━━━━━━━━━━━\u001b[0m\u001b[37m\u001b[0m \u001b[1m0s\u001b[0m 32ms/step - loss: 0.5981 - mae: 0.5973 - val_loss: 0.5461 - val_mae: 0.6294\n",
      "Epoch 21/50\n",
      "\u001b[1m1/3\u001b[0m \u001b[32m━━━━━━\u001b[0m\u001b[37m━━━━━━━━━━━━━━\u001b[0m \u001b[1m0s\u001b[0m 25ms/step - loss: 0.7183 - mae: 0.6492\n",
      "Epoch 21: val_loss did not improve from 0.52308\n",
      "\u001b[1m3/3\u001b[0m \u001b[32m━━━━━━━━━━━━━━━━━━━━\u001b[0m\u001b[37m\u001b[0m \u001b[1m0s\u001b[0m 33ms/step - loss: 0.6460 - mae: 0.6280 - val_loss: 0.5469 - val_mae: 0.6299\n",
      "Epoch 21: early stopping\n",
      "Restoring model weights from the end of the best epoch: 6.\n"
     ]
    }
   ],
   "source": [
    "os.makedirs('models', exist_ok=True)\n",
    "\n",
    "early_stop = EarlyStopping(monitor='val_loss', patience=15, restore_best_weights=True, verbose=1)\n",
    "checkpoint = ModelCheckpoint('models/best_model.keras', monitor='val_loss', save_best_only=True, verbose=1)\n",
    "\n",
    "history = model.fit(\n",
    "    X_train, y_train,\n",
    "    validation_data=(X_val, y_val),\n",
    "    epochs=50,\n",
    "    batch_size=32,\n",
    "    callbacks=[early_stop, checkpoint],\n",
    "    verbose=1\n",
    ")"
   ]
  },
  {
   "cell_type": "markdown",
   "metadata": {},
   "source": [
    "## 6. Visualización del Entrenamiento"
   ]
  },
  {
   "cell_type": "code",
   "execution_count": 35,
   "metadata": {},
   "outputs": [
    {
     "data": {
      "image/png": "[encoded data removed]",
      "text/plain": [
       "<Figure size 1500x500 with 2 Axes>"
      ]
     },
     "metadata": {},
     "output_type": "display_data"
    }
   ],
   "source": [
    "plt.figure(figsize=(15, 5))\n",
    "\n",
    "plt.subplot(1, 2, 1)\n",
    "plt.plot(history.history['loss'], label='Training Loss')\n",
    "plt.plot(history.history['val_loss'], label='Validation Loss')\n",
    "plt.title('Model Loss')\n",
    "plt.xlabel('Epoch')\n",
    "plt.ylabel('Loss')\n",
    "plt.legend()\n",
    "plt.grid(True)\n",
    "\n",
    "plt.subplot(1, 2, 2)\n",
    "plt.plot(history.history['mae'], label='Training MAE')\n",
    "plt.plot(history.history['val_mae'], label='Validation MAE')\n",
    "plt.title('Model MAE')\n",
    "plt.xlabel('Epoch')\n",
    "plt.ylabel('MAE')\n",
    "plt.legend()\n",
    "plt.grid(True)\n",
    "\n",
    "plt.tight_layout()\n",
    "plt.savefig('models/training_history.png')\n",
    "plt.show()"
   ]
  },
  {
   "cell_type": "markdown",
   "metadata": {},
   "source": [
    "## 7. Evaluación"
   ]
  },
  {
   "cell_type": "code",
   "execution_count": 36,
   "metadata": {},
   "outputs": [
    {
     "name": "stdout",
     "output_type": "stream",
     "text": [
      "\u001b[1m1/1\u001b[0m \u001b[32m━━━━━━━━━━━━━━━━━━━━\u001b[0m\u001b[37m\u001b[0m \u001b[1m0s\u001b[0m 33ms/step - loss: 0.5231 - mae: 0.6083\n",
      "\n",
      "Validation Loss: 0.5231\n",
      "Validation MAE: 0.6083\n"
     ]
    }
   ],
   "source": [
    "results = model.evaluate(X_val, y_val, verbose=1)\n",
    "\n",
    "print(f\"\\nValidation Loss: {results[0]:.4f}\")\n",
    "print(f\"Validation MAE: {results[1]:.4f}\")"
   ]
  },
  {
   "cell_type": "code",
   "execution_count": 37,
   "metadata": {},
   "outputs": [
    {
     "name": "stdout",
     "output_type": "stream",
     "text": [
      "\u001b[1m1/1\u001b[0m \u001b[32m━━━━━━━━━━━━━━━━━━━━\u001b[0m\u001b[37m\u001b[0m \u001b[1m0s\u001b[0m 266ms/step\n",
      "\n",
      "Primeras 10 predicciones vs reales:\n"
     ]
    },
    {
     "data": {
      "text/html": [
       "<div>\n",
       "<style scoped>\n",
       "    .dataframe tbody tr th:only-of-type {\n",
       "        vertical-align: middle;\n",
       "    }\n",
       "\n",
       "    .dataframe tbody tr th {\n",
       "        vertical-align: top;\n",
       "    }\n",
       "\n",
       "    .dataframe thead th {\n",
       "        text-align: right;\n",
       "    }\n",
       "</style>\n",
       "<table border=\"1\" class=\"dataframe\">\n",
       "  <thead>\n",
       "    <tr style=\"text-align: right;\">\n",
       "      <th></th>\n",
       "      <th>Real Pace</th>\n",
       "      <th>Pred Pace</th>\n",
       "      <th>Real HR</th>\n",
       "      <th>Pred HR</th>\n",
       "    </tr>\n",
       "  </thead>\n",
       "  <tbody>\n",
       "    <tr>\n",
       "      <th>0</th>\n",
       "      <td>17.066667</td>\n",
       "      <td>17.680212</td>\n",
       "      <td>91.0</td>\n",
       "      <td>122.720169</td>\n",
       "    </tr>\n",
       "    <tr>\n",
       "      <th>1</th>\n",
       "      <td>10.616667</td>\n",
       "      <td>17.762381</td>\n",
       "      <td>114.0</td>\n",
       "      <td>122.358223</td>\n",
       "    </tr>\n",
       "    <tr>\n",
       "      <th>2</th>\n",
       "      <td>6.333333</td>\n",
       "      <td>17.770767</td>\n",
       "      <td>118.0</td>\n",
       "      <td>122.003639</td>\n",
       "    </tr>\n",
       "    <tr>\n",
       "      <th>3</th>\n",
       "      <td>9.550000</td>\n",
       "      <td>17.888123</td>\n",
       "      <td>120.0</td>\n",
       "      <td>122.046394</td>\n",
       "    </tr>\n",
       "    <tr>\n",
       "      <th>4</th>\n",
       "      <td>23.466667</td>\n",
       "      <td>17.733805</td>\n",
       "      <td>112.0</td>\n",
       "      <td>122.270721</td>\n",
       "    </tr>\n",
       "    <tr>\n",
       "      <th>5</th>\n",
       "      <td>27.650000</td>\n",
       "      <td>17.832701</td>\n",
       "      <td>113.0</td>\n",
       "      <td>122.355927</td>\n",
       "    </tr>\n",
       "    <tr>\n",
       "      <th>6</th>\n",
       "      <td>22.866667</td>\n",
       "      <td>17.915470</td>\n",
       "      <td>118.0</td>\n",
       "      <td>122.235542</td>\n",
       "    </tr>\n",
       "    <tr>\n",
       "      <th>7</th>\n",
       "      <td>22.216667</td>\n",
       "      <td>18.376343</td>\n",
       "      <td>117.0</td>\n",
       "      <td>121.582443</td>\n",
       "    </tr>\n",
       "    <tr>\n",
       "      <th>8</th>\n",
       "      <td>24.700000</td>\n",
       "      <td>18.812826</td>\n",
       "      <td>114.0</td>\n",
       "      <td>121.213036</td>\n",
       "    </tr>\n",
       "    <tr>\n",
       "      <th>9</th>\n",
       "      <td>25.100000</td>\n",
       "      <td>19.541590</td>\n",
       "      <td>122.0</td>\n",
       "      <td>121.311325</td>\n",
       "    </tr>\n",
       "  </tbody>\n",
       "</table>\n",
       "</div>"
      ],
      "text/plain": [
       "   Real Pace  Pred Pace  Real HR     Pred HR\n",
       "0  17.066667  17.680212     91.0  122.720169\n",
       "1  10.616667  17.762381    114.0  122.358223\n",
       "2   6.333333  17.770767    118.0  122.003639\n",
       "3   9.550000  17.888123    120.0  122.046394\n",
       "4  23.466667  17.733805    112.0  122.270721\n",
       "5  27.650000  17.832701    113.0  122.355927\n",
       "6  22.866667  17.915470    118.0  122.235542\n",
       "7  22.216667  18.376343    117.0  121.582443\n",
       "8  24.700000  18.812826    114.0  121.213036\n",
       "9  25.100000  19.541590    122.0  121.311325"
      ]
     },
     "execution_count": 37,
     "metadata": {},
     "output_type": "execute_result"
    }
   ],
   "source": [
    "predictions = model.predict(X_val[:10])\n",
    "predictions_original = scaler_y.inverse_transform(predictions)\n",
    "y_val_original = scaler_y.inverse_transform(y_val[:10])\n",
    "\n",
    "comparison_df = pd.DataFrame({\n",
    "    'Real Pace': y_val_original[:, 0],\n",
    "    'Pred Pace': predictions_original[:, 0],\n",
    "    'Real HR': y_val_original[:, 1],\n",
    "    'Pred HR': predictions_original[:, 1]\n",
    "})\n",
    "\n",
    "print(\"\\nPrimeras 10 predicciones vs reales:\")\n",
    "comparison_df"
   ]
  },
  {
   "cell_type": "markdown",
   "metadata": {},
   "source": [
    "## 8. Guardar Modelo y Scalers"
   ]
  },
  {
   "cell_type": "code",
   "execution_count": 38,
   "metadata": {},
   "outputs": [
    {
     "name": "stdout",
     "output_type": "stream",
     "text": [
      "Modelo guardado en: models/smart_peak_model.keras\n",
      "Scalers guardados en: models/scalers.pkl\n"
     ]
    }
   ],
   "source": [
    "model.save('models/smart_peak_model.keras')\n",
    "\n",
    "with open('models/scalers.pkl', 'wb') as f:\n",
    "    pickle.dump({\n",
    "        'scaler_X': scaler_X,\n",
    "        'scaler_y': scaler_y,\n",
    "        'sequence_length': sequence_length,\n",
    "        'feature_columns': feature_columns,\n",
    "        'target_columns': target_columns\n",
    "    }, f)\n",
    "\n",
    "print(\"Modelo guardado en: models/smart_peak_model.keras\")\n",
    "print(\"Scalers guardados en: models/scalers.pkl\")"
   ]
  }
 ],
 "metadata": {
  "kernelspec": {
   "display_name": "base",
   "language": "python",
   "name": "python3"
  },
  "language_info": {
   "codemirror_mode": {
    "name": "ipython",
    "version": 3
   },
   "file_extension": ".py",
   "mimetype": "text/x-python",
   "name": "python",
   "nbconvert_exporter": "python",
   "pygments_lexer": "ipython3",
   "version": "3.13.5"
  }
 },
 "nbformat": 4,
 "nbformat_minor": 4
}
